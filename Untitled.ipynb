{
 "cells": [
  {
   "cell_type": "code",
   "execution_count": 3,
   "id": "wireless-transformation",
   "metadata": {},
   "outputs": [
    {
     "ename": "LoadError",
     "evalue": "syntax: extra token \"project\" after end of expression",
     "output_type": "error",
     "traceback": [
      "syntax: extra token \"project\" after end of expression",
      "",
      "Stacktrace:",
      " [1] top-level scope",
      "   @ In[3]:1"
     ]
    }
   ],
   "source": [
    "Activating project at '~DualNumbers'"
   ]
  },
  {
   "cell_type": "code",
   "execution_count": 4,
   "id": "northern-breast",
   "metadata": {},
   "outputs": [
    {
     "name": "stderr",
     "output_type": "stream",
     "text": [
      "\u001b[32m\u001b[1m     Testing\u001b[22m\u001b[39m DualNumbers\n",
      "\u001b[32m\u001b[1m      Status\u001b[22m\u001b[39m `/tmp/jl_1tBV98/Project.toml`\n",
      " \u001b[90m [83cc4b66] \u001b[39mDualNumbers v0.1.0 `~/DualNumbers`\n",
      " \u001b[90m [295af30f] \u001b[39mRevise v3.5.0\n",
      " \u001b[90m [8dfed614] \u001b[39mTest `@stdlib/Test`\n",
      "\u001b[32m\u001b[1m      Status\u001b[22m\u001b[39m `/tmp/jl_1tBV98/Manifest.toml`\n",
      " \u001b[90m [da1fd8a2] \u001b[39mCodeTracking v1.2.0\n",
      " \u001b[90m [83cc4b66] \u001b[39mDualNumbers v0.1.0 `~/DualNumbers`\n",
      " \u001b[90m [aa1ae85d] \u001b[39mJuliaInterpreter v0.9.20\n",
      " \u001b[90m [6f1432cf] \u001b[39mLoweredCodeUtils v2.3.0\n",
      " \u001b[90m [bac558e1] \u001b[39mOrderedCollections v1.4.1\n",
      " \u001b[90m [ae029012] \u001b[39mRequires v1.3.0\n",
      " \u001b[90m [295af30f] \u001b[39mRevise v3.5.0\n",
      " \u001b[90m [0dad84c5] \u001b[39mArgTools v1.1.1 `@stdlib/ArgTools`\n",
      " \u001b[90m [56f22d72] \u001b[39mArtifacts `@stdlib/Artifacts`\n",
      " \u001b[90m [2a0f44e3] \u001b[39mBase64 `@stdlib/Base64`\n",
      " \u001b[90m [ade2ca70] \u001b[39mDates `@stdlib/Dates`\n",
      " \u001b[90m [8ba89e20] \u001b[39mDistributed `@stdlib/Distributed`\n",
      " \u001b[90m [f43a241f] \u001b[39mDownloads v1.6.0 `@stdlib/Downloads`\n",
      " \u001b[90m [7b1f6079] \u001b[39mFileWatching `@stdlib/FileWatching`\n",
      " \u001b[90m [b77e0a4c] \u001b[39mInteractiveUtils `@stdlib/InteractiveUtils`\n",
      " \u001b[90m [b27032c2] \u001b[39mLibCURL v0.6.3 `@stdlib/LibCURL`\n",
      " \u001b[90m [76f85450] \u001b[39mLibGit2 `@stdlib/LibGit2`\n",
      " \u001b[90m [8f399da3] \u001b[39mLibdl `@stdlib/Libdl`\n",
      " \u001b[90m [56ddb016] \u001b[39mLogging `@stdlib/Logging`\n",
      " \u001b[90m [d6f4376e] \u001b[39mMarkdown `@stdlib/Markdown`\n",
      " \u001b[90m [ca575930] \u001b[39mNetworkOptions v1.2.0 `@stdlib/NetworkOptions`\n",
      " \u001b[90m [44cfe95a] \u001b[39mPkg v1.8.0 `@stdlib/Pkg`\n",
      " \u001b[90m [de0858da] \u001b[39mPrintf `@stdlib/Printf`\n",
      " \u001b[90m [3fa0cd96] \u001b[39mREPL `@stdlib/REPL`\n",
      " \u001b[90m [9a3f8284] \u001b[39mRandom `@stdlib/Random`\n",
      " \u001b[90m [ea8e919c] \u001b[39mSHA v0.7.0 `@stdlib/SHA`\n",
      " \u001b[90m [9e88b42a] \u001b[39mSerialization `@stdlib/Serialization`\n",
      " \u001b[90m [6462fe0b] \u001b[39mSockets `@stdlib/Sockets`\n",
      " \u001b[90m [fa267f1f] \u001b[39mTOML v1.0.0 `@stdlib/TOML`\n",
      " \u001b[90m [a4e569a6] \u001b[39mTar v1.10.1 `@stdlib/Tar`\n",
      " \u001b[90m [8dfed614] \u001b[39mTest `@stdlib/Test`\n",
      " \u001b[90m [cf7118a7] \u001b[39mUUIDs `@stdlib/UUIDs`\n",
      " \u001b[90m [4ec0a83e] \u001b[39mUnicode `@stdlib/Unicode`\n",
      " \u001b[90m [deac9b47] \u001b[39mLibCURL_jll v7.84.0+0 `@stdlib/LibCURL_jll`\n",
      " \u001b[90m [29816b5a] \u001b[39mLibSSH2_jll v1.10.2+0 `@stdlib/LibSSH2_jll`\n",
      " \u001b[90m [c8ffd9c3] \u001b[39mMbedTLS_jll v2.28.0+0 `@stdlib/MbedTLS_jll`\n",
      " \u001b[90m [14a3606d] \u001b[39mMozillaCACerts_jll v2022.2.1 `@stdlib/MozillaCACerts_jll`\n",
      " \u001b[90m [83775a58] \u001b[39mZlib_jll v1.2.12+3 `@stdlib/Zlib_jll`\n",
      " \u001b[90m [8e850ede] \u001b[39mnghttp2_jll v1.48.0+0 `@stdlib/nghttp2_jll`\n",
      " \u001b[90m [3f19e933] \u001b[39mp7zip_jll v17.4.0+0 `@stdlib/p7zip_jll`\n",
      "\u001b[32m\u001b[1mPrecompiling\u001b[22m\u001b[39m project...\n",
      "\u001b[91m  ✗ \u001b[39mDualNumbers\n",
      "  0 dependencies successfully precompiled in 1 seconds. 9 already precompiled.\n",
      "  \u001b[91m1\u001b[39m dependency errored. To see a full report either run `import Pkg; Pkg.precompile()` or load the package\n",
      "\u001b[32m\u001b[1m     Testing\u001b[22m\u001b[39m Running tests...\n",
      "\u001b[91m\u001b[1mERROR: \u001b[22m\u001b[39mLoadError: syntax: space before \".\" not allowed in \"Base .\" at /home/kslattery/DualNumbers/src/DualNumbers.jl:19\n",
      "Stacktrace:\n",
      " [1] top-level scope\n",
      "\u001b[90m   @ \u001b[39m\u001b[90m~/DualNumbers/src/\u001b[39m\u001b[90m\u001b[4mDualNumbers.jl:19\u001b[24m\u001b[39m\n",
      " [2] \u001b[0m\u001b[1minclude\u001b[22m\n",
      "\u001b[90m   @ \u001b[39m\u001b[90m./\u001b[39m\u001b[90m\u001b[4mBase.jl:419\u001b[24m\u001b[39m\u001b[90m [inlined]\u001b[39m\n",
      " [3] \u001b[0m\u001b[1minclude_package_for_output\u001b[22m\u001b[0m\u001b[1m(\u001b[22m\u001b[90mpkg\u001b[39m::\u001b[0mBase.PkgId, \u001b[90minput\u001b[39m::\u001b[0mString, \u001b[90mdepot_path\u001b[39m::\u001b[0mVector\u001b[90m{String}\u001b[39m, \u001b[90mdl_load_path\u001b[39m::\u001b[0mVector\u001b[90m{String}\u001b[39m, \u001b[90mload_path\u001b[39m::\u001b[0mVector\u001b[90m{String}\u001b[39m, \u001b[90mconcrete_deps\u001b[39m::\u001b[0mVector\u001b[90m{Pair{Base.PkgId, UInt64}}\u001b[39m, \u001b[90msource\u001b[39m::\u001b[0mString\u001b[0m\u001b[1m)\u001b[22m\n",
      "\u001b[90m   @ \u001b[39m\u001b[90mBase\u001b[39m \u001b[90m./\u001b[39m\u001b[90m\u001b[4mloading.jl:1554\u001b[24m\u001b[39m\n",
      " [4] top-level scope\n",
      "\u001b[90m   @ \u001b[39m\u001b[90m\u001b[4mstdin:1\u001b[24m\u001b[39m\n",
      "in expression starting at /home/kslattery/DualNumbers/src/DualNumbers.jl:19\n",
      "in expression starting at stdin:1\n",
      "\u001b[91m\u001b[1mERROR: \u001b[22m\u001b[39mLoadError: Failed to precompile DualNumbers [83cc4b66-2ffb-4d94-b376-58603f495241] to /home/kslattery/.julia/compiled/v1.8/DualNumbers/jl_fmd2QV.\n",
      "Stacktrace:\n",
      "  [1] \u001b[0m\u001b[1merror\u001b[22m\u001b[0m\u001b[1m(\u001b[22m\u001b[90ms\u001b[39m::\u001b[0mString\u001b[0m\u001b[1m)\u001b[22m\n",
      "\u001b[90m    @ \u001b[39m\u001b[90mBase\u001b[39m \u001b[90m./\u001b[39m\u001b[90m\u001b[4merror.jl:35\u001b[24m\u001b[39m\n",
      "  [2] \u001b[0m\u001b[1mcompilecache\u001b[22m\u001b[0m\u001b[1m(\u001b[22m\u001b[90mpkg\u001b[39m::\u001b[0mBase.PkgId, \u001b[90mpath\u001b[39m::\u001b[0mString, \u001b[90minternal_stderr\u001b[39m::\u001b[0mIO, \u001b[90minternal_stdout\u001b[39m::\u001b[0mIO, \u001b[90mkeep_loaded_modules\u001b[39m::\u001b[0mBool\u001b[0m\u001b[1m)\u001b[22m\n",
      "\u001b[90m    @ \u001b[39m\u001b[90mBase\u001b[39m \u001b[90m./\u001b[39m\u001b[90m\u001b[4mloading.jl:1707\u001b[24m\u001b[39m\n",
      "  [3] \u001b[0m\u001b[1mcompilecache\u001b[22m\n",
      "\u001b[90m    @ \u001b[39m\u001b[90m./\u001b[39m\u001b[90m\u001b[4mloading.jl:1651\u001b[24m\u001b[39m\u001b[90m [inlined]\u001b[39m\n",
      "  [4] \u001b[0m\u001b[1m_require\u001b[22m\u001b[0m\u001b[1m(\u001b[22m\u001b[90mpkg\u001b[39m::\u001b[0mBase.PkgId\u001b[0m\u001b[1m)\u001b[22m\n",
      "\u001b[90m    @ \u001b[39m\u001b[90mBase\u001b[39m \u001b[90m./\u001b[39m\u001b[90m\u001b[4mloading.jl:1337\u001b[24m\u001b[39m\n",
      "  [5] \u001b[0m\u001b[1m_require_prelocked\u001b[22m\u001b[0m\u001b[1m(\u001b[22m\u001b[90muuidkey\u001b[39m::\u001b[0mBase.PkgId\u001b[0m\u001b[1m)\u001b[22m\n",
      "\u001b[90m    @ \u001b[39m\u001b[90mBase\u001b[39m \u001b[90m./\u001b[39m\u001b[90m\u001b[4mloading.jl:1200\u001b[24m\u001b[39m\n",
      "  [6] \u001b[0m\u001b[1mmacro expansion\u001b[22m\n",
      "\u001b[90m    @ \u001b[39m\u001b[90m./\u001b[39m\u001b[90m\u001b[4mloading.jl:1180\u001b[24m\u001b[39m\u001b[90m [inlined]\u001b[39m\n",
      "  [7] \u001b[0m\u001b[1mmacro expansion\u001b[22m\n",
      "\u001b[90m    @ \u001b[39m\u001b[90m./\u001b[39m\u001b[90m\u001b[4mlock.jl:223\u001b[24m\u001b[39m\u001b[90m [inlined]\u001b[39m\n",
      "  [8] \u001b[0m\u001b[1mrequire\u001b[22m\u001b[0m\u001b[1m(\u001b[22m\u001b[90minto\u001b[39m::\u001b[0mModule, \u001b[90mmod\u001b[39m::\u001b[0mSymbol\u001b[0m\u001b[1m)\u001b[22m\n",
      "\u001b[90m    @ \u001b[39m\u001b[90mBase\u001b[39m \u001b[90m./\u001b[39m\u001b[90m\u001b[4mloading.jl:1144\u001b[24m\u001b[39m\n",
      "  [9] \u001b[0m\u001b[1minclude\u001b[22m\u001b[0m\u001b[1m(\u001b[22m\u001b[90mfname\u001b[39m::\u001b[0mString\u001b[0m\u001b[1m)\u001b[22m\n",
      "\u001b[90m    @ \u001b[39m\u001b[90mBase.MainInclude\u001b[39m \u001b[90m./\u001b[39m\u001b[90m\u001b[4mclient.jl:476\u001b[24m\u001b[39m\n",
      " [10] top-level scope\n",
      "\u001b[90m    @ \u001b[39m\u001b[90m\u001b[4mnone:6\u001b[24m\u001b[39m\n",
      "in expression starting at /home/kslattery/DualNumbers/test/runtests.jl:1\n"
     ]
    },
    {
     "ename": "LoadError",
     "evalue": "Package DualNumbers errored during testing",
     "output_type": "error",
     "traceback": [
      "Package DualNumbers errored during testing",
      "",
      "Stacktrace:",
      " [1] pkgerror(msg::String)",
      "   @ Pkg.Types /cm/shared/apps/julia/julia-1.8.4/share/julia/stdlib/v1.8/Pkg/src/Types.jl:67",
      " [2] test(ctx::Pkg.Types.Context, pkgs::Vector{Pkg.Types.PackageSpec}; coverage::Bool, julia_args::Cmd, test_args::Cmd, test_fn::Nothing, force_latest_compatible_version::Bool, allow_earlier_backwards_compatible_versions::Bool, allow_reresolve::Bool)",
      "   @ Pkg.Operations /cm/shared/apps/julia/julia-1.8.4/share/julia/stdlib/v1.8/Pkg/src/Operations.jl:1813",
      " [3] test(ctx::Pkg.Types.Context, pkgs::Vector{Pkg.Types.PackageSpec}; coverage::Bool, test_fn::Nothing, julia_args::Cmd, test_args::Cmd, force_latest_compatible_version::Bool, allow_earlier_backwards_compatible_versions::Bool, allow_reresolve::Bool, kwargs::Base.Pairs{Symbol, IJulia.IJuliaStdio{Base.PipeEndpoint}, Tuple{Symbol}, NamedTuple{(:io,), Tuple{IJulia.IJuliaStdio{Base.PipeEndpoint}}}})",
      "   @ Pkg.API /cm/shared/apps/julia/julia-1.8.4/share/julia/stdlib/v1.8/Pkg/src/API.jl:434",
      " [4] test(pkgs::Vector{Pkg.Types.PackageSpec}; io::IJulia.IJuliaStdio{Base.PipeEndpoint}, kwargs::Base.Pairs{Symbol, Union{}, Tuple{}, NamedTuple{(), Tuple{}}})",
      "   @ Pkg.API /cm/shared/apps/julia/julia-1.8.4/share/julia/stdlib/v1.8/Pkg/src/API.jl:156",
      " [5] test(pkgs::Vector{Pkg.Types.PackageSpec})",
      "   @ Pkg.API /cm/shared/apps/julia/julia-1.8.4/share/julia/stdlib/v1.8/Pkg/src/API.jl:145",
      " [6] do_cmd!(command::Pkg.REPLMode.Command, repl::IJulia.MiniREPL)",
      "   @ Pkg.REPLMode /cm/shared/apps/julia/julia-1.8.4/share/julia/stdlib/v1.8/Pkg/src/REPLMode/REPLMode.jl:409",
      " [7] do_cmd(repl::IJulia.MiniREPL, input::String; do_rethrow::Bool)",
      "   @ Pkg.REPLMode /cm/shared/apps/julia/julia-1.8.4/share/julia/stdlib/v1.8/Pkg/src/REPLMode/REPLMode.jl:387",
      " [8] top-level scope",
      "   @ In[4]:1"
     ]
    }
   ],
   "source": [
    "]test"
   ]
  },
  {
   "cell_type": "code",
   "execution_count": 9,
   "id": "rocky-split",
   "metadata": {},
   "outputs": [
    {
     "name": "stderr",
     "output_type": "stream",
     "text": [
      "\u001b[32m\u001b[1m  Activating\u001b[22m\u001b[39m project at `~/DualNumbers`\n"
     ]
    }
   ],
   "source": [
    "]activate ."
   ]
  },
  {
   "cell_type": "code",
   "execution_count": 10,
   "id": "liable-kuwait",
   "metadata": {},
   "outputs": [
    {
     "name": "stderr",
     "output_type": "stream",
     "text": [
      "\u001b[32m\u001b[1m     Testing\u001b[22m\u001b[39m DualNumbers\n",
      "\u001b[32m\u001b[1m      Status\u001b[22m\u001b[39m `/tmp/jl_TP45vY/Project.toml`\n",
      " \u001b[90m [83cc4b66] \u001b[39mDualNumbers v0.1.0 `~/DualNumbers`\n",
      " \u001b[90m [295af30f] \u001b[39mRevise v3.5.0\n",
      " \u001b[90m [8dfed614] \u001b[39mTest `@stdlib/Test`\n",
      "\u001b[32m\u001b[1m      Status\u001b[22m\u001b[39m `/tmp/jl_TP45vY/Manifest.toml`\n",
      " \u001b[90m [da1fd8a2] \u001b[39mCodeTracking v1.2.0\n",
      " \u001b[90m [83cc4b66] \u001b[39mDualNumbers v0.1.0 `~/DualNumbers`\n",
      " \u001b[90m [aa1ae85d] \u001b[39mJuliaInterpreter v0.9.20\n",
      " \u001b[90m [6f1432cf] \u001b[39mLoweredCodeUtils v2.3.0\n",
      " \u001b[90m [bac558e1] \u001b[39mOrderedCollections v1.4.1\n",
      " \u001b[90m [ae029012] \u001b[39mRequires v1.3.0\n",
      " \u001b[90m [295af30f] \u001b[39mRevise v3.5.0\n",
      " \u001b[90m [0dad84c5] \u001b[39mArgTools v1.1.1 `@stdlib/ArgTools`\n",
      " \u001b[90m [56f22d72] \u001b[39mArtifacts `@stdlib/Artifacts`\n",
      " \u001b[90m [2a0f44e3] \u001b[39mBase64 `@stdlib/Base64`\n",
      " \u001b[90m [ade2ca70] \u001b[39mDates `@stdlib/Dates`\n",
      " \u001b[90m [8ba89e20] \u001b[39mDistributed `@stdlib/Distributed`\n",
      " \u001b[90m [f43a241f] \u001b[39mDownloads v1.6.0 `@stdlib/Downloads`\n",
      " \u001b[90m [7b1f6079] \u001b[39mFileWatching `@stdlib/FileWatching`\n",
      " \u001b[90m [b77e0a4c] \u001b[39mInteractiveUtils `@stdlib/InteractiveUtils`\n",
      " \u001b[90m [b27032c2] \u001b[39mLibCURL v0.6.3 `@stdlib/LibCURL`\n",
      " \u001b[90m [76f85450] \u001b[39mLibGit2 `@stdlib/LibGit2`\n",
      " \u001b[90m [8f399da3] \u001b[39mLibdl `@stdlib/Libdl`\n",
      " \u001b[90m [56ddb016] \u001b[39mLogging `@stdlib/Logging`\n",
      " \u001b[90m [d6f4376e] \u001b[39mMarkdown `@stdlib/Markdown`\n",
      " \u001b[90m [ca575930] \u001b[39mNetworkOptions v1.2.0 `@stdlib/NetworkOptions`\n",
      " \u001b[90m [44cfe95a] \u001b[39mPkg v1.8.0 `@stdlib/Pkg`\n",
      " \u001b[90m [de0858da] \u001b[39mPrintf `@stdlib/Printf`\n",
      " \u001b[90m [3fa0cd96] \u001b[39mREPL `@stdlib/REPL`\n",
      " \u001b[90m [9a3f8284] \u001b[39mRandom `@stdlib/Random`\n",
      " \u001b[90m [ea8e919c] \u001b[39mSHA v0.7.0 `@stdlib/SHA`\n",
      " \u001b[90m [9e88b42a] \u001b[39mSerialization `@stdlib/Serialization`\n",
      " \u001b[90m [6462fe0b] \u001b[39mSockets `@stdlib/Sockets`\n",
      " \u001b[90m [fa267f1f] \u001b[39mTOML v1.0.0 `@stdlib/TOML`\n",
      " \u001b[90m [a4e569a6] \u001b[39mTar v1.10.1 `@stdlib/Tar`\n",
      " \u001b[90m [8dfed614] \u001b[39mTest `@stdlib/Test`\n",
      " \u001b[90m [cf7118a7] \u001b[39mUUIDs `@stdlib/UUIDs`\n",
      " \u001b[90m [4ec0a83e] \u001b[39mUnicode `@stdlib/Unicode`\n",
      " \u001b[90m [deac9b47] \u001b[39mLibCURL_jll v7.84.0+0 `@stdlib/LibCURL_jll`\n",
      " \u001b[90m [29816b5a] \u001b[39mLibSSH2_jll v1.10.2+0 `@stdlib/LibSSH2_jll`\n",
      " \u001b[90m [c8ffd9c3] \u001b[39mMbedTLS_jll v2.28.0+0 `@stdlib/MbedTLS_jll`\n",
      " \u001b[90m [14a3606d] \u001b[39mMozillaCACerts_jll v2022.2.1 `@stdlib/MozillaCACerts_jll`\n",
      " \u001b[90m [83775a58] \u001b[39mZlib_jll v1.2.12+3 `@stdlib/Zlib_jll`\n",
      " \u001b[90m [8e850ede] \u001b[39mnghttp2_jll v1.48.0+0 `@stdlib/nghttp2_jll`\n",
      " \u001b[90m [3f19e933] \u001b[39mp7zip_jll v17.4.0+0 `@stdlib/p7zip_jll`\n",
      "\u001b[32m\u001b[1mPrecompiling\u001b[22m\u001b[39m project...\n",
      "\u001b[32m  ✓ \u001b[39mDualNumbers\n",
      "  1 dependency successfully precompiled in 0 seconds. 9 already precompiled.\n",
      "\u001b[32m\u001b[1m     Testing\u001b[22m\u001b[39m Running tests...\n",
      "\u001b[32m\u001b[1m     Testing\u001b[22m\u001b[39m DualNumbers tests passed \n"
     ]
    }
   ],
   "source": [
    "]test"
   ]
  },
  {
   "cell_type": "code",
   "execution_count": null,
   "id": "laughing-phoenix",
   "metadata": {},
   "outputs": [],
   "source": []
  }
 ],
 "metadata": {
  "kernelspec": {
   "display_name": "Julia 1.8.4",
   "language": "julia",
   "name": "julia-1.8"
  },
  "language_info": {
   "file_extension": ".jl",
   "mimetype": "application/julia",
   "name": "julia",
   "version": "1.8.4"
  }
 },
 "nbformat": 4,
 "nbformat_minor": 5
}
